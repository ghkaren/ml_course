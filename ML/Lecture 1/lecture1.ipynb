{
 "cells": [
  {
   "cell_type": "markdown",
   "metadata": {},
   "source": [
    "# Fundamentals of Learning\n"
   ]
  },
  {
   "cell_type": "markdown",
   "metadata": {},
   "source": [
    "## Supervised methods"
   ]
  },
  {
   "cell_type": "raw",
   "metadata": {},
   "source": [
    "Regression\n",
    "Classification\n",
    "Ranking, Density Estimation"
   ]
  },
  {
   "cell_type": "markdown",
   "metadata": {},
   "source": [
    "## Unsupervised methods"
   ]
  },
  {
   "cell_type": "raw",
   "metadata": {},
   "source": [
    "Clustering\n",
    "Dimensionality Reduction\n",
    "Density Estimation"
   ]
  },
  {
   "cell_type": "markdown",
   "metadata": {},
   "source": [
    "## Training and Testing for supervised learning"
   ]
  },
  {
   "cell_type": "raw",
   "metadata": {},
   "source": [
    "in-sample and out-of-sample\n",
    "train set, test set, validation set\n",
    "model, parameters\n",
    "loss function, test error\n",
    "overfitting, underfitting, model complexity"
   ]
  },
  {
   "cell_type": "markdown",
   "metadata": {},
   "source": [
    "![title](image1.png)"
   ]
  },
  {
   "cell_type": "markdown",
   "metadata": {},
   "source": [
    "# Linear Regression"
   ]
  },
  {
   "cell_type": "markdown",
   "metadata": {},
   "source": [
    "## simple form"
   ]
  },
  {
   "cell_type": "markdown",
   "metadata": {},
   "source": [
    "\\begin{align}\n",
    "y = a + b x \n",
    "\\end{align}\n",
    "\n",
    "\\begin{align}\n",
    "Loss = \\sum (y - a - b x)^ 2\n",
    "\\end{align}"
   ]
  },
  {
   "cell_type": "markdown",
   "metadata": {},
   "source": [
    "## matrix form"
   ]
  },
  {
   "cell_type": "markdown",
   "metadata": {},
   "source": [
    "\\begin{align}\n",
    "Y  = X \\beta + e\n",
    "\\end{align}\n"
   ]
  },
  {
   "cell_type": "markdown",
   "metadata": {},
   "source": [
    "![title](image2.png)"
   ]
  },
  {
   "cell_type": "markdown",
   "metadata": {},
   "source": [
    "\\begin{align}\n",
    "Loss  = (Y - X \\beta) ^ 2\n",
    "\\end{align}\n"
   ]
  },
  {
   "cell_type": "markdown",
   "metadata": {},
   "source": [
    "### solution of matrix form"
   ]
  },
  {
   "cell_type": "markdown",
   "metadata": {},
   "source": [
    "\\begin{align}\n",
    "\\beta = (X^T X) ^{-1} X^T Y\n",
    "\\end{align}"
   ]
  },
  {
   "cell_type": "markdown",
   "metadata": {},
   "source": [
    "# Homework"
   ]
  },
  {
   "cell_type": "code",
   "execution_count": 1,
   "metadata": {},
   "outputs": [],
   "source": [
    "import numpy as np\n",
    "from numpy.linalg import inv\n",
    "from matplotlib import pyplot as plt\n",
    "from sklearn.preprocessing import PolynomialFeatures\n",
    "from sklearn.model_selection import train_test_split"
   ]
  },
  {
   "cell_type": "code",
   "execution_count": 2,
   "metadata": {},
   "outputs": [],
   "source": [
    "def fit_linear_regression(X, Y):\n",
    "    \"\"\"\n",
    "    :param X: A numpy matrix, where each row is a data element (X)\n",
    "    :param Y: A list of responses for each of the rows (y)\n",
    "    :return: An array of parameters\n",
    "    \"\"\"\n",
    "    polyf = PolynomialFeatures(1)\n",
    "    X = polyf.fit_transform(X)\n",
    "    B = np.dot(inv(np.dot(X.T, X)), np.dot(X.T, Y)), X\n",
    "    return B\n",
    "\n",
    "\n",
    "def fit_polynomial_regression(data_list, response_list, degree=2):\n",
    "    \"\"\"\n",
    "    :param data_list: An array_like with data elements\n",
    "    :param response_list: A list of responses for each of the rows (y)\n",
    "    :param degree: degree of polynomial to use\n",
    "    :return: An array of parameters\n",
    "    \"\"\"\n",
    "    poly = PolynomialFeatures(degree)\n",
    "    X = poly.fit_transform(data_list)\n",
    "    B = np.dot(inv(np.dot(X.T, X)), np.dot(X.T, response_list)), X\n",
    "    return B\n",
    "\n",
    "\n",
    "def mean_square_loss(X, Y, b):\n",
    "    \"\"\"\n",
    "    :param X: A numpy matrix, where each row is a data element (X)\n",
    "    :param Y: A list of responses for each of the rows (y)\n",
    "    :param b: An array of parameters\n",
    "    :return: mean square loss is square loss per data point\n",
    "    \"\"\"\n",
    "    return np.sum((X.dot(b) - Y)**2)/(len(Y))\n",
    "\n",
    "\n",
    "def plot_test_err_vs_train_err(train_X, train_Y, test_X, test_Y):\n",
    "    \"\"\"\n",
    "    :param train_X: A numpy matrix, where each row is a data element\n",
    "    :param train_Y: A list of responses for each of the rows\n",
    "    :param test_X: test set for data matrix\n",
    "    :param test_Y: test set of responses for each of the rows from test_X\n",
    "    should plot mean suqare loss on train and test sets versus polynomial degree\n",
    "    \"\"\"\n",
    "    train = []\n",
    "    test = []\n",
    "    rng = np.arange(5)\n",
    "    for degree in rng:\n",
    "        beta, train_P = fit_polynomial_regression(train_X, train_Y, degree=degree)\n",
    "        loss_train = mean_square_loss(train_P, train_Y, beta)\n",
    "        \n",
    "        poly = PolynomialFeatures(degree)\n",
    "        test_P = poly.fit_transform(test_X)\n",
    "        loss_test = mean_square_loss(test_P, test_Y, beta)\n",
    "        \n",
    "        train.append(loss_train)\n",
    "        test.append(loss_test)\n",
    "        \n",
    "    \n",
    "    plt.clf()\n",
    "    plt.figure(figsize=(16,9))\n",
    "    plt.plot(rng, np.log(train)/abs(np.log(train)[0]), color=\"yellow\", label=\"Train Loss\")\n",
    "    plt.plot(rng, np.log(test)/abs(np.log(test)[0]), color=\"blue\", label=\"Test Loss\")\n",
    "    plt.legend(loc=\"best\")\n",
    "    plt.xlabel(\"polynom\")\n",
    "    plt.ylabel(\"mean_error\")\n",
    "    plt.show()\n",
    "        \n",
    "    "
   ]
  },
  {
   "cell_type": "markdown",
   "metadata": {
    "collapsed": true
   },
   "source": [
    "### Test Data"
   ]
  },
  {
   "cell_type": "code",
   "execution_count": 3,
   "metadata": {},
   "outputs": [],
   "source": [
    "X = np.array([[0.2*x + 0.5, 0.6*x**2] for x in np.arange(45)])"
   ]
  },
  {
   "cell_type": "code",
   "execution_count": 4,
   "metadata": {},
   "outputs": [],
   "source": [
    "Y = [x.dot(np.array([1,1])) + np.random.normal(0, 1) for x in X]"
   ]
  },
  {
   "cell_type": "markdown",
   "metadata": {},
   "source": [
    "### Linear Regression"
   ]
  },
  {
   "cell_type": "code",
   "execution_count": 5,
   "metadata": {},
   "outputs": [],
   "source": [
    "linear_betas, X_L_F = fit_linear_regression(X, Y)"
   ]
  },
  {
   "cell_type": "code",
   "execution_count": 6,
   "metadata": {},
   "outputs": [
    {
     "data": {
      "text/plain": [
       "array([0.29056153, 0.83997732, 1.0013179 ])"
      ]
     },
     "execution_count": 6,
     "metadata": {},
     "output_type": "execute_result"
    }
   ],
   "source": [
    "linear_betas"
   ]
  },
  {
   "cell_type": "markdown",
   "metadata": {},
   "source": [
    "### Polynomial Regression"
   ]
  },
  {
   "cell_type": "code",
   "execution_count": 7,
   "metadata": {},
   "outputs": [],
   "source": [
    "poly_betas, X_P_F = fit_polynomial_regression(X, Y, 1)"
   ]
  },
  {
   "cell_type": "code",
   "execution_count": 8,
   "metadata": {},
   "outputs": [
    {
     "data": {
      "text/plain": [
       "array([0.29056153, 0.83997732, 1.0013179 ])"
      ]
     },
     "execution_count": 8,
     "metadata": {},
     "output_type": "execute_result"
    }
   ],
   "source": [
    "poly_betas"
   ]
  },
  {
   "cell_type": "markdown",
   "metadata": {},
   "source": [
    "### Mean Square Loss"
   ]
  },
  {
   "cell_type": "code",
   "execution_count": 9,
   "metadata": {},
   "outputs": [
    {
     "data": {
      "text/plain": [
       "1.0747022085453284"
      ]
     },
     "execution_count": 9,
     "metadata": {},
     "output_type": "execute_result"
    }
   ],
   "source": [
    "mean_square_loss(X_L_F, Y, linear_betas)"
   ]
  },
  {
   "cell_type": "code",
   "execution_count": 10,
   "metadata": {},
   "outputs": [
    {
     "data": {
      "text/plain": [
       "1.0747022085453284"
      ]
     },
     "execution_count": 10,
     "metadata": {},
     "output_type": "execute_result"
    }
   ],
   "source": [
    "mean_square_loss(X_P_F, Y, poly_betas)"
   ]
  },
  {
   "cell_type": "markdown",
   "metadata": {},
   "source": [
    "### Plot"
   ]
  },
  {
   "cell_type": "code",
   "execution_count": 11,
   "metadata": {},
   "outputs": [],
   "source": [
    "X_train, X_test, y_train, y_test = train_test_split(X, Y, test_size=0.10)"
   ]
  },
  {
   "cell_type": "code",
   "execution_count": 12,
   "metadata": {},
   "outputs": [
    {
     "data": {
      "text/plain": [
       "<matplotlib.figure.Figure at 0x1136ea358>"
      ]
     },
     "metadata": {},
     "output_type": "display_data"
    },
    {
     "data": {
      "image/png": "[encoded data removed]",
      "text/plain": [
       "<matplotlib.figure.Figure at 0x1136eaba8>"
      ]
     },
     "metadata": {},
     "output_type": "display_data"
    }
   ],
   "source": [
    "plot_test_err_vs_train_err(X_train, y_train, X_test, y_test)"
   ]
  },
  {
   "cell_type": "code",
   "execution_count": null,
   "metadata": {},
   "outputs": [],
   "source": []
  }
 ],
 "metadata": {
  "kernelspec": {
   "display_name": "Python 3",
   "language": "python",
   "name": "python3"
  },
  "language_info": {
   "codemirror_mode": {
    "name": "ipython",
    "version": 3
   },
   "file_extension": ".py",
   "mimetype": "text/x-python",
   "name": "python",
   "nbconvert_exporter": "python",
   "pygments_lexer": "ipython3",
   "version": "3.6.5"
  }
 },
 "nbformat": 4,
 "nbformat_minor": 2
}
