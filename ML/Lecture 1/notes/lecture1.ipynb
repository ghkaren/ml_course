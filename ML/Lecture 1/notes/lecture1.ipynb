{
 "cells": [
  {
   "cell_type": "markdown",
   "metadata": {},
   "source": [
    "# Fundamentals of Learning\n"
   ]
  },
  {
   "cell_type": "markdown",
   "metadata": {},
   "source": [
    "## Supervised methods"
   ]
  },
  {
   "cell_type": "raw",
   "metadata": {},
   "source": [
    "Regression\n",
    "Classification\n",
    "Ranking, Density Estimation"
   ]
  },
  {
   "cell_type": "markdown",
   "metadata": {},
   "source": [
    "## Unsupervised methods"
   ]
  },
  {
   "cell_type": "raw",
   "metadata": {},
   "source": [
    "Clustering\n",
    "Dimensionality Reduction\n",
    "Density Estimation"
   ]
  },
  {
   "cell_type": "markdown",
   "metadata": {},
   "source": [
    "## Training and Testing for supervised learning"
   ]
  },
  {
   "cell_type": "raw",
   "metadata": {},
   "source": [
    "in-sample and out-of-sample\n",
    "train set, test set, validation set\n",
    "model, parameters\n",
    "loss function, test error\n",
    "overfitting, underfitting, model complexity"
   ]
  },
  {
   "cell_type": "markdown",
   "metadata": {},
   "source": [
    "![title](image1.png)"
   ]
  },
  {
   "cell_type": "markdown",
   "metadata": {},
   "source": [
    "# Linear Regression"
   ]
  },
  {
   "cell_type": "markdown",
   "metadata": {},
   "source": [
    "## simple form"
   ]
  },
  {
   "cell_type": "markdown",
   "metadata": {},
   "source": [
    "\\begin{align}\n",
    "y = a + b x \n",
    "\\end{align}\n",
    "\n",
    "\\begin{align}\n",
    "Loss = \\sum (y - a - b x)^ 2\n",
    "\\end{align}"
   ]
  },
  {
   "cell_type": "markdown",
   "metadata": {},
   "source": [
    "## matrix form"
   ]
  },
  {
   "cell_type": "markdown",
   "metadata": {},
   "source": [
    "\\begin{align}\n",
    "Y  = X \\beta + e\n",
    "\\end{align}\n"
   ]
  },
  {
   "cell_type": "markdown",
   "metadata": {},
   "source": [
    "![title](image2.png)"
   ]
  },
  {
   "cell_type": "markdown",
   "metadata": {},
   "source": [
    "\\begin{align}\n",
    "Loss  = (Y - X \\beta) ^ 2\n",
    "\\end{align}\n"
   ]
  },
  {
   "cell_type": "markdown",
   "metadata": {},
   "source": [
    "### solution of matrix form"
   ]
  },
  {
   "cell_type": "markdown",
   "metadata": {},
   "source": [
    "\\begin{align}\n",
    "\\beta = (X^T X) ^{-1} X^T Y\n",
    "\\end{align}"
   ]
  },
  {
   "cell_type": "markdown",
   "metadata": {},
   "source": [
    "# Homework"
   ]
  },
  {
   "cell_type": "code",
   "execution_count": 1,
   "metadata": {
    "collapsed": true
   },
   "outputs": [],
   "source": [
    "def fit_linear_regression(X, Y):\n",
    "    \"\"\"\n",
    "    :param X: A numpy matrix, where each row is a data element (X)\n",
    "    :param Y: A list of responses for each of the rows (y)\n",
    "    :return: An array of parameters\n",
    "    \"\"\"\n",
    "    B = np.dot(np.dot(X.T, X)**-1, np.dot(X.T, Y))\n",
    "    return B\n",
    "\n",
    "\n",
    "def fit_polynomial_regression(data_list, response_list, degree=2):\n",
    "    \"\"\"\n",
    "    :param data_list: An array_like with data elements\n",
    "    :param response_list: A list of responses for each of the rows (y)\n",
    "    :param degree: degree of polynomial to use\n",
    "    :return: An array of parameters\n",
    "    \"\"\"\n",
    "    pass\n",
    "\n",
    "\n",
    "def mean_square_loss(X, Y, b):\n",
    "    \"\"\"\n",
    "    :param X: A numpy matrix, where each row is a data element (X)\n",
    "    :param Y: A list of responses for each of the rows (y)\n",
    "    :param b: An array of parameters\n",
    "    :return: mean square loss is square loss per data point\n",
    "    \"\"\"\n",
    "    pass\n",
    "\n",
    "\n",
    "def plot_test_err_vs_train_err(train_X, train_Y, test_X, test_Y):\n",
    "    \"\"\"\n",
    "    :param train_X: A numpy matrix, where each row is a data element\n",
    "    :param train_Y: A list of responses for each of the rows\n",
    "    :param test_X: test set for data matrix\n",
    "    :param test_Y: test set of responses for each of the rows from test_X\n",
    "    should plot mean suqare loss on train and test sets versus polynomial degree\n",
    "    \"\"\"\n",
    "    pass\n",
    "    "
   ]
  },
  {
   "cell_type": "code",
   "execution_count": 2,
   "metadata": {
    "collapsed": true
   },
   "outputs": [],
   "source": [
    "import numpy as np\n",
    "from matplotlib import pyplot as plt"
   ]
  },
  {
   "cell_type": "code",
   "execution_count": 46,
   "metadata": {
    "collapsed": true
   },
   "outputs": [],
   "source": [
    "X_ = np.array([[0.2*x + 0.5, 0.6*x**2] for x in np.arange(45)])"
   ]
  },
  {
   "cell_type": "code",
   "execution_count": 47,
   "metadata": {
    "collapsed": true
   },
   "outputs": [],
   "source": [
    "Y_ = [x.dot(np.array([1,1])) + np.random.normal(0, 1) for x in X]"
   ]
  },
  {
   "cell_type": "code",
   "execution_count": 50,
   "metadata": {
    "collapsed": true
   },
   "outputs": [],
   "source": [
    "def fit_linear_regression(X, Y):\n",
    "    \"\"\"\n",
    "    :param X: A numpy matrix, where each row is a data element (X)\n",
    "    :param Y: A list of responses for each of the rows (y)\n",
    "    :return: An array of parameters\n",
    "    \"\"\"\n",
    "    "
   ]
  },
  {
   "cell_type": "code",
   "execution_count": 51,
   "metadata": {
    "collapsed": true
   },
   "outputs": [],
   "source": [
    "fit_linear_regression(X_, Y_)"
   ]
  },
  {
   "cell_type": "code",
   "execution_count": 54,
   "metadata": {},
   "outputs": [
    {
     "data": {
      "text/plain": [
       "array([1.1, 5.4])"
      ]
     },
     "execution_count": 54,
     "metadata": {},
     "output_type": "execute_result"
    }
   ],
   "source": [
    "X[3]"
   ]
  },
  {
   "cell_type": "code",
   "execution_count": null,
   "metadata": {
    "collapsed": true
   },
   "outputs": [],
   "source": []
  }
 ],
 "metadata": {
  "kernelspec": {
   "display_name": "Python 3",
   "language": "python",
   "name": "python3"
  },
  "language_info": {
   "codemirror_mode": {
    "name": "ipython",
    "version": 3
   },
   "file_extension": ".py",
   "mimetype": "text/x-python",
   "name": "python",
   "nbconvert_exporter": "python",
   "pygments_lexer": "ipython3",
   "version": "3.6.1"
  }
 },
 "nbformat": 4,
 "nbformat_minor": 2
}
