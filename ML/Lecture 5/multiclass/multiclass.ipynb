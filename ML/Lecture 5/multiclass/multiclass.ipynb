{
 "cells": [
  {
   "cell_type": "code",
   "execution_count": 1,
   "metadata": {},
   "outputs": [],
   "source": [
    "import numpy as np\n",
    "import numpy \n",
    "import matplotlib.pyplot as plt\n",
    "from sklearn.model_selection import train_test_split\n",
    "%matplotlib notebook"
   ]
  },
  {
   "cell_type": "code",
   "execution_count": 2,
   "metadata": {},
   "outputs": [],
   "source": [
    "train_data = np.load(\"train_images.npy\")\n",
    "labels = np.load(\"train_labels.npy\")\n",
    "# labels = labels.astype(int)"
   ]
  },
  {
   "cell_type": "markdown",
   "metadata": {},
   "source": [
    "### Prepairing Data"
   ]
  },
  {
   "cell_type": "markdown",
   "metadata": {},
   "source": [
    "#### Creating Vectors"
   ]
  },
  {
   "cell_type": "code",
   "execution_count": 3,
   "metadata": {},
   "outputs": [],
   "source": [
    "labels = labels.flatten().reshape(labels.shape[0])"
   ]
  },
  {
   "cell_type": "code",
   "execution_count": 4,
   "metadata": {},
   "outputs": [],
   "source": [
    "train_data = train_data / train_data.max()"
   ]
  },
  {
   "cell_type": "code",
   "execution_count": 5,
   "metadata": {},
   "outputs": [],
   "source": [
    "x_train, x_test, y_train, y_test = train_test_split(train_data, labels, test_size=0.25, random_state=0)"
   ]
  },
  {
   "cell_type": "markdown",
   "metadata": {},
   "source": [
    "### Train"
   ]
  },
  {
   "cell_type": "code",
   "execution_count": 6,
   "metadata": {},
   "outputs": [],
   "source": [
    "def convert_labels(l):\n",
    "    vector = np.zeros(10)\n",
    "    vector[l] = 1\n",
    "    return vector"
   ]
  },
  {
   "cell_type": "code",
   "execution_count": 7,
   "metadata": {},
   "outputs": [],
   "source": [
    "def softmax(X, b):\n",
    "    z = X.dot(b)\n",
    "    z -= np.max(z)\n",
    "    sm = (np.exp(z).T / np.sum(np.exp(z),axis=1)).T\n",
    "    return sm"
   ]
  },
  {
   "cell_type": "code",
   "execution_count": 8,
   "metadata": {},
   "outputs": [],
   "source": [
    "def loss(X, y, b):\n",
    "    prob = softmax(X, b) \n",
    "    loss = (-1 / len(X)) * np.sum(y * np.log(prob))\n",
    "    return loss"
   ]
  },
  {
   "cell_type": "code",
   "execution_count": 9,
   "metadata": {},
   "outputs": [],
   "source": [
    "def grad (y, X, b):\n",
    "    h = softmax(X, b)\n",
    "    return (-1 / len(X)) * np.dot(X.T,(y - h))"
   ]
  },
  {
   "cell_type": "code",
   "execution_count": 10,
   "metadata": {},
   "outputs": [],
   "source": [
    "def train(X, y, steps=10, lr=1e-2):\n",
    "    b = np.zeros([x_train.shape[1],len(np.unique(y))])\n",
    "    losses = []\n",
    "    y = np.array([convert_labels(int(a)) for a in y])\n",
    "    for i in range(steps):        \n",
    "        gradient = grad(y, X, b)\n",
    "        b = b - lr * gradient\n",
    "        l = loss(X, y, b) \n",
    "        losses.append(l)\n",
    "        if i % 200 == 1:\n",
    "            print(\"step: {}, loss: {}\".format(i, l))\n",
    "    return b, losses"
   ]
  },
  {
   "cell_type": "code",
   "execution_count": 11,
   "metadata": {},
   "outputs": [
    {
     "name": "stdout",
     "output_type": "stream",
     "text": [
      "step: 1, loss: 2.2811127889218006\n",
      "step: 201, loss: 1.1893317760947077\n",
      "step: 401, loss: 0.879276372054964\n",
      "step: 601, loss: 0.7418995013165212\n",
      "step: 801, loss: 0.6633976429263801\n",
      "step: 1001, loss: 0.6118799701808959\n",
      "step: 1201, loss: 0.5750737947714515\n",
      "step: 1401, loss: 0.5472320468136407\n",
      "step: 1601, loss: 0.5252903491802898\n",
      "step: 1801, loss: 0.5074576874814394\n",
      "step: 2001, loss: 0.49261324543795604\n",
      "step: 2201, loss: 0.4800174892193325\n",
      "step: 2401, loss: 0.46916139935771345\n",
      "step: 2601, loss: 0.4596823060135528\n",
      "step: 2801, loss: 0.4513142706002839\n",
      "step: 3001, loss: 0.44385748364210903\n",
      "step: 3201, loss: 0.43715865995682884\n",
      "step: 3401, loss: 0.43109806469095713\n",
      "step: 3601, loss: 0.42558068303798985\n",
      "step: 3801, loss: 0.4205300610082427\n",
      "step: 4001, loss: 0.4158839154521411\n",
      "step: 4201, loss: 0.41159094451654726\n",
      "step: 4401, loss: 0.40760847021223867\n",
      "step: 4601, loss: 0.4039006689503296\n",
      "step: 4801, loss: 0.4004372247804279\n"
     ]
    }
   ],
   "source": [
    "w, losses = train(x_train, y_train, steps=5000)"
   ]
  },
  {
   "cell_type": "code",
   "execution_count": 12,
   "metadata": {},
   "outputs": [],
   "source": [
    "predictions = softmax(x_test, w)"
   ]
  },
  {
   "cell_type": "code",
   "execution_count": 13,
   "metadata": {},
   "outputs": [],
   "source": [
    "preds = np.argmax(predictions,axis=1)"
   ]
  },
  {
   "cell_type": "code",
   "execution_count": 14,
   "metadata": {},
   "outputs": [
    {
     "data": {
      "text/plain": [
       "89.23333333333333"
      ]
     },
     "execution_count": 14,
     "metadata": {},
     "output_type": "execute_result"
    }
   ],
   "source": [
    "(preds == y_test).mean() * 100"
   ]
  },
  {
   "cell_type": "code",
   "execution_count": 15,
   "metadata": {},
   "outputs": [
    {
     "data": {
      "text/plain": [
       "[<matplotlib.lines.Line2D at 0x7fce9a331860>]"
      ]
     },
     "execution_count": 15,
     "metadata": {},
     "output_type": "execute_result"
    },
    {
     "data": {
      "image/png": "[encoded data removed]",
      "text/plain": [
       "<matplotlib.figure.Figure at 0x7fce9a3655f8>"
      ]
     },
     "metadata": {},
     "output_type": "display_data"
    }
   ],
   "source": [
    "plt.plot(losses)"
   ]
  },
  {
   "cell_type": "code",
   "execution_count": 16,
   "metadata": {},
   "outputs": [],
   "source": [
    "y_test_converted = np.array([convert_labels(int(a)) for a in y_test])"
   ]
  },
  {
   "cell_type": "markdown",
   "metadata": {},
   "source": [
    "### Loss on Test Set"
   ]
  },
  {
   "cell_type": "code",
   "execution_count": 17,
   "metadata": {},
   "outputs": [
    {
     "data": {
      "text/plain": [
       "0.3988018684616271"
      ]
     },
     "execution_count": 17,
     "metadata": {},
     "output_type": "execute_result"
    }
   ],
   "source": [
    "loss(x_test, y_test_converted, w)"
   ]
  }
 ],
 "metadata": {
  "kernelspec": {
   "display_name": "Python 3",
   "language": "python",
   "name": "python3"
  },
  "language_info": {
   "codemirror_mode": {
    "name": "ipython",
    "version": 3
   },
   "file_extension": ".py",
   "mimetype": "text/x-python",
   "name": "python",
   "nbconvert_exporter": "python",
   "pygments_lexer": "ipython3",
   "version": "3.6.5"
  }
 },
 "nbformat": 4,
 "nbformat_minor": 2
}
