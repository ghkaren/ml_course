{
 "cells": [
  {
   "cell_type": "code",
   "execution_count": 1,
   "metadata": {},
   "outputs": [],
   "source": [
    "import numpy as np\n",
    "import numpy \n",
    "import matplotlib.pyplot as plt\n",
    "from sklearn.model_selection import train_test_split\n",
    "%matplotlib notebook"
   ]
  },
  {
   "cell_type": "code",
   "execution_count": 2,
   "metadata": {},
   "outputs": [],
   "source": [
    "x_train = np.load(\"train_images.npy\")\n",
    "y_train = np.load(\"train_labels.npy\")\n",
    "x_test = np.load(\"test_images.npy\")\n",
    "y_test = np.load(\"test_labels.npy\")"
   ]
  },
  {
   "cell_type": "markdown",
   "metadata": {},
   "source": [
    "### Prepairing Data"
   ]
  },
  {
   "cell_type": "code",
   "execution_count": 3,
   "metadata": {},
   "outputs": [],
   "source": [
    "y_train = y_train.flatten().reshape(y_train.shape[0])\n",
    "y_test = y_test.flatten().reshape(y_test.shape[0])"
   ]
  },
  {
   "cell_type": "code",
   "execution_count": null,
   "metadata": {},
   "outputs": [],
   "source": []
  },
  {
   "cell_type": "code",
   "execution_count": 4,
   "metadata": {},
   "outputs": [],
   "source": [
    "x_train = x_train / x_train.max()\n",
    "x_test = x_test / x_test.max()"
   ]
  },
  {
   "cell_type": "markdown",
   "metadata": {},
   "source": [
    "### Train"
   ]
  },
  {
   "cell_type": "code",
   "execution_count": 5,
   "metadata": {},
   "outputs": [],
   "source": [
    "def convert_labels(l):\n",
    "    vector = np.zeros(10)\n",
    "    vector[l] = 1\n",
    "    return vector"
   ]
  },
  {
   "cell_type": "code",
   "execution_count": 6,
   "metadata": {},
   "outputs": [],
   "source": [
    "def softmax(X, b):\n",
    "    z = X.dot(b)\n",
    "    z -= np.max(z)\n",
    "    sm = (np.exp(z).T / np.sum(np.exp(z),axis=1)).T\n",
    "    return sm"
   ]
  },
  {
   "cell_type": "code",
   "execution_count": 7,
   "metadata": {},
   "outputs": [],
   "source": [
    "def loss(X, y, b):\n",
    "    prob = softmax(X, b) \n",
    "    loss = (-1 / len(X)) * np.sum(y * np.log(prob))\n",
    "    return loss"
   ]
  },
  {
   "cell_type": "code",
   "execution_count": 8,
   "metadata": {},
   "outputs": [],
   "source": [
    "def grad (y, X, b):\n",
    "    h = softmax(X, b)\n",
    "    return (-1 / len(X)) * np.dot(X.T,(y - h))"
   ]
  },
  {
   "cell_type": "code",
   "execution_count": 50,
   "metadata": {},
   "outputs": [],
   "source": [
    "def train(X, y, steps=10, lr=1e-1, b = None):\n",
    "    if b is None:\n",
    "        b = np.zeros([x_train.shape[1],len(np.unique(y))])\n",
    "#     losses = []\n",
    "    y = np.array([convert_labels(int(a)) for a in y])\n",
    "    for i in range(steps):        \n",
    "        gradient = grad(y, X, b)\n",
    "        b = b - lr * gradient\n",
    "#         losses.append(l)\n",
    "        if i % 100 == 0:\n",
    "            l = loss(X, y, b) \n",
    "            print(\"step: {}, loss: {}\".format(i, l))\n",
    "    print(\"step: {}, loss: {}\".format(i, l))\n",
    "    return b#, losses"
   ]
  },
  {
   "cell_type": "code",
   "execution_count": 51,
   "metadata": {},
   "outputs": [
    {
     "name": "stdout",
     "output_type": "stream",
     "text": [
      "step: 0, loss: 1.508706641712843\n",
      "step: 100, loss: 0.34958825934688886\n",
      "step: 200, loss: 0.31952658108273535\n",
      "step: 300, loss: 0.3057143110712559\n",
      "step: 400, loss: 0.2972677298083914\n",
      "step: 499, loss: 0.2972677298083914\n",
      "step: 0, loss: 0.2914007805565457\n",
      "step: 100, loss: 0.29089895880216443\n",
      "step: 200, loss: 0.290410436143991\n",
      "step: 300, loss: 0.2899345918474778\n",
      "step: 400, loss: 0.28947084570355286\n",
      "step: 499, loss: 0.28947084570355286\n",
      "step: 0, loss: 0.2890226744357449\n",
      "step: 100, loss: 0.2889780635517312\n",
      "step: 200, loss: 0.28893356263777636\n",
      "step: 300, loss: 0.28888917120599256\n",
      "step: 400, loss: 0.288844888771583\n",
      "step: 499, loss: 0.288844888771583\n",
      "step: 0, loss: 0.28880111193582264\n",
      "step: 100, loss: 0.2887967004209364\n",
      "step: 200, loss: 0.2887922899859635\n",
      "step: 300, loss: 0.28878788063042715\n",
      "step: 400, loss: 0.28878347235385093\n",
      "step: 499, loss: 0.28878347235385093\n",
      "step: 0, loss: 0.28877910481573604\n",
      "step: 100, loss: 0.2887786641544976\n",
      "step: 200, loss: 0.2887782235040388\n",
      "step: 300, loss: 0.28877778286435896\n",
      "step: 400, loss: 0.2887773422354579\n",
      "step: 499, loss: 0.2887773422354579\n"
     ]
    }
   ],
   "source": [
    "lr = 1.0\n",
    "weights = None\n",
    "for i in range(5):\n",
    "    weights = train(x_train, y_train, steps=500, lr=lr, b=weights)\n",
    "    lr = lr / 10.0"
   ]
  },
  {
   "cell_type": "code",
   "execution_count": 52,
   "metadata": {},
   "outputs": [],
   "source": [
    "predictions = softmax(x_test, w)"
   ]
  },
  {
   "cell_type": "code",
   "execution_count": 53,
   "metadata": {},
   "outputs": [],
   "source": [
    "preds = np.argmax(predictions,axis=1)"
   ]
  },
  {
   "cell_type": "code",
   "execution_count": 54,
   "metadata": {},
   "outputs": [
    {
     "data": {
      "text/plain": [
       "92.28"
      ]
     },
     "execution_count": 54,
     "metadata": {},
     "output_type": "execute_result"
    }
   ],
   "source": [
    "(preds == y_test).mean() * 100"
   ]
  },
  {
   "cell_type": "code",
   "execution_count": 56,
   "metadata": {},
   "outputs": [],
   "source": [
    "y_test_converted = np.array([convert_labels(int(a)) for a in y_test])"
   ]
  },
  {
   "cell_type": "markdown",
   "metadata": {},
   "source": [
    "### Loss on Test Set"
   ]
  },
  {
   "cell_type": "code",
   "execution_count": 57,
   "metadata": {},
   "outputs": [
    {
     "data": {
      "text/plain": [
       "0.27833789549508414"
      ]
     },
     "execution_count": 57,
     "metadata": {},
     "output_type": "execute_result"
    }
   ],
   "source": [
    "loss(x_test, y_test_converted, w)"
   ]
  },
  {
   "cell_type": "code",
   "execution_count": 59,
   "metadata": {},
   "outputs": [],
   "source": [
    "np.save(\"l_w.npy\", w)"
   ]
  },
  {
   "cell_type": "code",
   "execution_count": null,
   "metadata": {},
   "outputs": [],
   "source": []
  }
 ],
 "metadata": {
  "kernelspec": {
   "display_name": "Python 3",
   "language": "python",
   "name": "python3"
  },
  "language_info": {
   "codemirror_mode": {
    "name": "ipython",
    "version": 3
   },
   "file_extension": ".py",
   "mimetype": "text/x-python",
   "name": "python",
   "nbconvert_exporter": "python",
   "pygments_lexer": "ipython3",
   "version": "3.6.5"
  }
 },
 "nbformat": 4,
 "nbformat_minor": 2
}
